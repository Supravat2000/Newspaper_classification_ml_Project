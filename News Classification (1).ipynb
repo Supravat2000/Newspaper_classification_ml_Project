{
 "cells": [
  {
   "cell_type": "code",
   "execution_count": 1,
   "metadata": {},
   "outputs": [],
   "source": [
    "import pandas as pd\n",
    "import glob\n",
    "\n",
    "from sklearn.feature_extraction.text import CountVectorizer\n",
    "from sklearn.feature_extraction.text import TfidfTransformer\n",
    "from sklearn.model_selection import train_test_split\n",
    "from sklearn import svm\n",
    "from sklearn.metrics import confusion_matrix,accuracy_score"
   ]
  },
  {
   "cell_type": "code",
   "execution_count": 2,
   "metadata": {},
   "outputs": [
    {
     "ename": "FileNotFoundError",
     "evalue": "[Errno 2] No such file or directory: 'data/sport/0.txt'",
     "output_type": "error",
     "traceback": [
      "\u001b[1;31m---------------------------------------------------------------------------\u001b[0m",
      "\u001b[1;31mFileNotFoundError\u001b[0m                         Traceback (most recent call last)",
      "\u001b[1;32m<ipython-input-2-5eafe5009d2b>\u001b[0m in \u001b[0;36m<module>\u001b[1;34m\u001b[0m\n\u001b[0;32m      6\u001b[0m     \u001b[1;32mfor\u001b[0m \u001b[0mnews_item\u001b[0m \u001b[1;32min\u001b[0m \u001b[0mnews\u001b[0m\u001b[1;33m:\u001b[0m\u001b[1;33m\u001b[0m\u001b[1;33m\u001b[0m\u001b[0m\n\u001b[0;32m      7\u001b[0m         \u001b[0mlines\u001b[0m \u001b[1;33m=\u001b[0m \u001b[0mnews_item\u001b[0m\u001b[1;33m.\u001b[0m\u001b[0msplit\u001b[0m\u001b[1;33m(\u001b[0m\u001b[1;34m'\\n'\u001b[0m\u001b[1;33m)\u001b[0m\u001b[1;33m\u001b[0m\u001b[1;33m\u001b[0m\u001b[0m\n\u001b[1;32m----> 8\u001b[1;33m         \u001b[0mfile_to_write\u001b[0m \u001b[1;33m=\u001b[0m \u001b[0mopen\u001b[0m\u001b[1;33m(\u001b[0m\u001b[1;34m'data/'\u001b[0m \u001b[1;33m+\u001b[0m \u001b[0mlines\u001b[0m\u001b[1;33m[\u001b[0m\u001b[1;36m6\u001b[0m\u001b[1;33m]\u001b[0m \u001b[1;33m+\u001b[0m \u001b[1;34m'/'\u001b[0m \u001b[1;33m+\u001b[0m \u001b[0mstr\u001b[0m\u001b[1;33m(\u001b[0m\u001b[0mcount\u001b[0m\u001b[1;33m[\u001b[0m\u001b[0mlines\u001b[0m\u001b[1;33m[\u001b[0m\u001b[1;36m6\u001b[0m\u001b[1;33m]\u001b[0m\u001b[1;33m]\u001b[0m\u001b[1;33m)\u001b[0m \u001b[1;33m+\u001b[0m \u001b[1;34m'.txt'\u001b[0m\u001b[1;33m,\u001b[0m \u001b[1;34m'w+'\u001b[0m\u001b[1;33m)\u001b[0m\u001b[1;33m\u001b[0m\u001b[1;33m\u001b[0m\u001b[0m\n\u001b[0m\u001b[0;32m      9\u001b[0m         \u001b[0mcount\u001b[0m\u001b[1;33m[\u001b[0m\u001b[0mlines\u001b[0m\u001b[1;33m[\u001b[0m\u001b[1;36m6\u001b[0m\u001b[1;33m]\u001b[0m\u001b[1;33m]\u001b[0m \u001b[1;33m=\u001b[0m \u001b[0mcount\u001b[0m\u001b[1;33m[\u001b[0m\u001b[0mlines\u001b[0m\u001b[1;33m[\u001b[0m\u001b[1;36m6\u001b[0m\u001b[1;33m]\u001b[0m\u001b[1;33m]\u001b[0m \u001b[1;33m+\u001b[0m \u001b[1;36m1\u001b[0m\u001b[1;33m\u001b[0m\u001b[1;33m\u001b[0m\u001b[0m\n\u001b[0;32m     10\u001b[0m         \u001b[0mfile_to_write\u001b[0m\u001b[1;33m.\u001b[0m\u001b[0mwrite\u001b[0m\u001b[1;33m(\u001b[0m\u001b[0mnews_item\u001b[0m\u001b[1;33m)\u001b[0m  \u001b[1;31m# python will convert \\n to os.linesep\u001b[0m\u001b[1;33m\u001b[0m\u001b[1;33m\u001b[0m\u001b[0m\n",
      "\u001b[1;31mFileNotFoundError\u001b[0m: [Errno 2] No such file or directory: 'data/sport/0.txt'"
     ]
    }
   ],
   "source": [
    "with open('news', 'r') as f:\n",
    "    text = f.read()\n",
    "    news = text.split(\"\\n\\n\")\n",
    "    count = {'sport': 0, 'world': 0, \"us\": 0, \"business\": 0, \"health\": 0, \"entertainment\": 0, \"sci_tech\": 0}\n",
    "    i=0\n",
    "    for news_item in news:\n",
    "        lines = news_item.split('\\n')\n",
    "        file_to_write = open('data/' + lines[6] + '/' + str(count[lines[6]]) + '.txt', 'w+')\n",
    "        count[lines[6]] = count[lines[6]] + 1\n",
    "        file_to_write.write(news_item)  # python will convert \\n to os.linesep\n",
    "        file_to_write.close()\n",
    "        i+=1\n",
    "print(\"No. of News\", i)"
   ]
  },
  {
   "cell_type": "code",
   "execution_count": null,
   "metadata": {},
   "outputs": [],
   "source": [
    "category_list = [\"sport\", \"world\", \"us\", \"business\", \"health\", \"entertainment\", \"sci_tech\"]\n",
    "directory_list = [\"data/sport/*.txt\", \"data/world/*.txt\",\"data/us/*.txt\",\"data/business/*.txt\",\"data/health/*.txt\",\"data/entertainment/*.txt\",\"data/sci_tech/*.txt\",]\n",
    "\n",
    "text_files = list(map(lambda x: glob.glob(x), directory_list))\n",
    "text_files = [item for sublist in text_files for item in sublist]\n",
    "\n",
    "training_data = []\n",
    "\n",
    "for t in text_files:\n",
    "    f = open(t, 'r')\n",
    "    f = f.read()\n",
    "    t = f.split('\\n')\n",
    "    training_data.append({'data' : t[0] + ' ' + t[1], 'flag' : category_list.index(t[6])})\n",
    "    \n",
    "training_data[0]"
   ]
  },
  {
   "cell_type": "code",
   "execution_count": null,
   "metadata": {
    "scrolled": true
   },
   "outputs": [],
   "source": [
    "training_data = pd.DataFrame(training_data, columns=['data', 'flag'])\n",
    "training_data.to_csv(\"train_data.csv\", sep=',', encoding='utf-8')\n",
    "print(training_data.data.shape)"
   ]
  },
  {
   "cell_type": "code",
   "execution_count": null,
   "metadata": {},
   "outputs": [],
   "source": [
    "from sklearn.feature_extraction.text import CountVectorizer\n",
    "\n",
    "#GET VECTOR COUNT\n",
    "count_vect = CountVectorizer()\n",
    "X_train_counts = count_vect.fit_transform(training_data.data)"
   ]
  },
  {
   "cell_type": "code",
   "execution_count": null,
   "metadata": {},
   "outputs": [],
   "source": [
    "#TRANSFORM WORD VECTOR TO TF IDF\n",
    "tfidf_transformer = TfidfTransformer()\n",
    "X_train_tfidf = tfidf_transformer.fit_transform(X_train_counts)"
   ]
  },
  {
   "cell_type": "code",
   "execution_count": null,
   "metadata": {},
   "outputs": [],
   "source": [
    "X_train, X_test, y_train, y_test = train_test_split(X_train_tfidf, training_data.flag, test_size=0.25, random_state=42)"
   ]
  },
  {
   "cell_type": "code",
   "execution_count": 8,
   "metadata": {},
   "outputs": [
    {
     "data": {
      "text/plain": [
       "LinearSVC()"
      ]
     },
     "execution_count": 8,
     "metadata": {},
     "output_type": "execute_result"
    }
   ],
   "source": [
    "clf_svm = svm.LinearSVC()\n",
    "clf_svm.fit(X_train, y_train)"
   ]
  },
  {
   "cell_type": "code",
   "execution_count": 9,
   "metadata": {},
   "outputs": [],
   "source": [
    "predicted = clf_svm.predict(X_test)"
   ]
  },
  {
   "cell_type": "code",
   "execution_count": 13,
   "metadata": {},
   "outputs": [],
   "source": [
    "a =[]\n",
    "label=[]"
   ]
  },
  {
   "cell_type": "code",
   "execution_count": 14,
   "metadata": {
    "scrolled": true
   },
   "outputs": [
    {
     "name": "stdout",
     "output_type": "stream",
     "text": [
      "[[1974    7   14   13   10   22   14]\n",
      " [  10 1448   68   36   25    7   22]\n",
      " [  16   45  927   59   35   18   42]\n",
      " [   8   42  103 1032   23   10  100]\n",
      " [   7   13   35   26  338    4   27]\n",
      " [  13    5   23   42   20  768   22]\n",
      " [   6   16   37   89   15   18  497]]\n",
      "0.8568273831431726\n"
     ]
    }
   ],
   "source": [
    "print(confusion_matrix(predicted,y_test))\n",
    "print(accuracy_score(predicted,y_test))\n",
    "a.append(accuracy_score(predicted,y_test))\n",
    "label.append(\"SVM\")"
   ]
  },
  {
   "cell_type": "code",
   "execution_count": 35,
   "metadata": {
    "scrolled": true
   },
   "outputs": [
    {
     "name": "stdout",
     "output_type": "stream",
     "text": [
      "[[1951   24   51   39   19   84   33]\n",
      " [  21 1419  113   53   31   27   42]\n",
      " [  32   54  857   80   46   42   51]\n",
      " [  12   50  106 1000   31   27  115]\n",
      " [   4   13   32   17  314   11   31]\n",
      " [  11    5   26   30   14  643   22]\n",
      " [   3   11   22   78   11   13  430]]\n",
      "0.8114341798552325\n"
     ]
    }
   ],
   "source": [
    "#MODEL TRAINING USING K NEAREST NEIGHBOUR\n",
    "from sklearn.neighbors import KNeighborsClassifier\n",
    "model_knn = KNeighborsClassifier(n_neighbors=7)\n",
    "model_knn.fit(X_train, y_train)\n",
    "predicted_knn = model_knn.predict(X_test)\n",
    "print(confusion_matrix(predicted_knn,y_test))\n",
    "print(accuracy_score(predicted_knn,y_test))\n",
    "a.append(accuracy_score(predicted_knn,y_test))\n",
    "label.append(\"KNN\")"
   ]
  },
  {
   "cell_type": "code",
   "execution_count": 17,
   "metadata": {
    "scrolled": true
   },
   "outputs": [
    {
     "name": "stdout",
     "output_type": "stream",
     "text": [
      "[[1953   59  105   62   34  132   85]\n",
      " [  19 1380  135   59   40   33   34]\n",
      " [  23   39  738   59   39   21   50]\n",
      " [  16   72  144  982   60   36  174]\n",
      " [   1    7   24   24  241    4   22]\n",
      " [  21   14   32   44   31  608   31]\n",
      " [   1    5   29   67   21   13  328]]\n",
      "0.7643233959023432\n"
     ]
    }
   ],
   "source": [
    "#MODEL TRAINING USING RANDOM FOREST CLASSIFIER\n",
    "from sklearn.ensemble import RandomForestClassifier\n",
    "model_rf = RandomForestClassifier(random_state=42)\n",
    "model_rf.fit(X_train, y_train)\n",
    "predicted_rf = model_rf.predict(X_test)\n",
    "print(confusion_matrix(predicted_rf,y_test))\n",
    "print(accuracy_score(predicted_rf,y_test))\n",
    "a.append(accuracy_score(predicted_rf,y_test))\n",
    "label.append(\"Random Forest\")"
   ]
  },
  {
   "cell_type": "code",
   "execution_count": 32,
   "metadata": {},
   "outputs": [
    {
     "data": {
      "text/plain": [
       "Text(0, 0.5, 'Accuracy')"
      ]
     },
     "execution_count": 32,
     "metadata": {},
     "output_type": "execute_result"
    },
    {
     "data": {
      "image/png": "[encoded data removed]",
      "text/plain": [
       "<Figure size 432x288 with 1 Axes>"
      ]
     },
     "metadata": {
      "needs_background": "light"
     },
     "output_type": "display_data"
    }
   ],
   "source": [
    "import matplotlib.pyplot as plt\n",
    "plt.bar(x=label, height=a,color=\"orange\",width=0.5,align=\"center\")\n",
    "plt.xlabel(\"Model\")\n",
    "plt.ylabel(\"Accuracy\")"
   ]
  },
  {
   "cell_type": "code",
   "execution_count": 43,
   "metadata": {
    "scrolled": true
   },
   "outputs": [],
   "source": [
    "import anvil.server\n",
    "anvil.server.connect(\"EWJIUJ5CJTAQLJ4F54UNSXKV-ZANELIJ3SYHXWTR7\")"
   ]
  },
  {
   "cell_type": "code",
   "execution_count": 83,
   "metadata": {},
   "outputs": [],
   "source": [
    "from vaderSentiment.vaderSentiment import SentiText\n",
    "from vaderSentiment.vaderSentiment import BOOSTER_DICT\n",
    "def take_words(text):\n",
    "    s = SentiText(text)\n",
    "    sentiments = []\n",
    "    words = s.words_and_emoticons\n",
    "    for item in words:\n",
    "        valence = 0\n",
    "        i = words.index(item)\n",
    "        if (i < len(words) - 1 and item.lower() == \"kind\" and words[i+1].lower() == \"of\") or item.lower() in BOOSTER_DICT:\n",
    "            sentiments.append(valence)\n",
    "            continue\n",
    "\n",
    "        sentiments = list(map(abs,SentimentIntensityAnalyzer.sentiment_valence(SentimentIntensityAnalyzer(),valence, s, item, i, sentiments)))\n",
    "\n",
    "    sentiments = SentimentIntensityAnalyzer._but_check(words, sentiments)\n",
    "    new_dict = {'sentiment':sentiments,'words':words}\n",
    "    df = pd.DataFrame(new_dict)\n",
    "    df = df.sort_values(by=['sentiment'],ascending=False)\n",
    "    df = df.reset_index(drop=True)\n",
    "    imp_words=[]\n",
    "    for i in range(len(df)):\n",
    "        imp_words.append(df['words'][i])\n",
    "    return imp_words"
   ]
  },
  {
   "cell_type": "code",
   "execution_count": 84,
   "metadata": {},
   "outputs": [],
   "source": [
    "head_line=[]\n",
    "def main_headline(affect,text):\n",
    "    new_list = text.split()\n",
    "    head_line = []\n",
    "    count =3\n",
    "    for j in affect:\n",
    "        string=\"\"\n",
    "        b=0\n",
    "        for i in new_list:\n",
    "            if(i == j):\n",
    "                b=1\n",
    "            if(b == 1):\n",
    "                if(i[-1] == \".\"):\n",
    "                    string+=(i[0:len(i)-1])\n",
    "                    b=0\n",
    "                else:\n",
    "                    if count >=0:\n",
    "                        count -=1\n",
    "                        string+=(i+\" \")\n",
    "                    else:\n",
    "                        b=0\n",
    "                        head_line.append(string)\n",
    "                        string=\"\"\n",
    "                        count = 3\n",
    "            else:\n",
    "                continue\n",
    "                        \n",
    "    return head_line"
   ]
  },
  {
   "cell_type": "code",
   "execution_count": 93,
   "metadata": {},
   "outputs": [],
   "source": [
    "from nltk.tokenize import sent_tokenize\n",
    "@anvil.server.callable\n",
    "def noun_news(noun,text):\n",
    "    affecting_words = take_words(text)\n",
    "    headline = main_headline(affecting_words,text)\n",
    "    sent = text.split(\"\\n\")\n",
    "    np = []\n",
    "    r=[]\n",
    "    for i in headline:\n",
    "        if noun in i:\n",
    "            for j in sent:\n",
    "                if i in j:\n",
    "                    r.append(j)\n",
    "                    return r\n",
    "    return np"
   ]
  },
  {
   "cell_type": "code",
   "execution_count": 94,
   "metadata": {},
   "outputs": [
    {
     "name": "stdout",
     "output_type": "stream",
     "text": [
      "Anvil websocket closed (code 1006, reason=Going away)\n"
     ]
    },
    {
     "name": "stderr",
     "output_type": "stream",
     "text": [
      "Exception in thread Thread-8:\n",
      "Traceback (most recent call last):\n",
      "  File \"c:\\users\\lenovo\\appdata\\local\\programs\\python\\python38\\lib\\site-packages\\anvil\\server.py\", line 395, in call\n"
     ]
    },
    {
     "name": "stdout",
     "output_type": "stream",
     "text": [
      "Reconnecting Anvil Uplink...\n",
      "Connecting to wss://anvil.works/uplink\n",
      "Reconnection failed. Waiting 10 seconds, then retrying.\n"
     ]
    },
    {
     "name": "stderr",
     "output_type": "stream",
     "text": [
      "    return _do_call(args, kwargs, fn_name=fn_name)\n",
      "  File \"c:\\users\\lenovo\\appdata\\local\\programs\\python\\python38\\lib\\site-packages\\anvil\\server.py\", line 387, in _do_call\n",
      "    return _threaded_server.do_call(args, kwargs, fn_name=fn_name, live_object=live_object)\n",
      "  File \"c:\\users\\lenovo\\appdata\\local\\programs\\python\\python38\\lib\\site-packages\\anvil\\_threaded_server.py\", line 412, in do_call\n",
      "    raise error_from_server\n",
      "anvil._server.AnvilWrappedError: 'Connection to Anvil Uplink server lost'\n",
      "\n",
      "During handling of the above exception, another exception occurred:\n",
      "\n",
      "Traceback (most recent call last):\n",
      "  File \"c:\\users\\lenovo\\appdata\\local\\programs\\python\\python38\\lib\\threading.py\", line 932, in _bootstrap_inner\n",
      "    self.run()\n",
      "  File \"c:\\users\\lenovo\\appdata\\local\\programs\\python\\python38\\lib\\threading.py\", line 870, in run\n",
      "    self._target(*self._args, **self._kwargs)\n",
      "  File \"c:\\users\\lenovo\\appdata\\local\\programs\\python\\python38\\lib\\site-packages\\anvil\\server.py\", line 198, in heartbeat_until_reopened\n",
      "    call(\"anvil.private.echo\", \"keep-alive\")\n",
      "  File \"c:\\users\\lenovo\\appdata\\local\\programs\\python\\python38\\lib\\site-packages\\anvil\\server.py\", line 398, in call\n",
      "    raise _server._deserialise_exception(e.error_obj)\n",
      "anvil._server.AnvilWrappedError: 'Connection to Anvil Uplink server lost'\n"
     ]
    },
    {
     "name": "stdout",
     "output_type": "stream",
     "text": [
      "Reconnecting Anvil Uplink...\n",
      "Connecting to wss://anvil.works/uplink\n",
      "Reconnection failed. Waiting 10 seconds, then retrying.\n",
      "Reconnecting Anvil Uplink...\n",
      "Connecting to wss://anvil.works/uplink\n",
      "Reconnection failed. Waiting 10 seconds, then retrying.\n",
      "Reconnecting Anvil Uplink...\n",
      "Connecting to wss://anvil.works/uplink\n",
      "Reconnection failed. Waiting 10 seconds, then retrying.\n",
      "Reconnecting Anvil Uplink...\n",
      "Connecting to wss://anvil.works/uplink\n",
      "Reconnection failed. Waiting 10 seconds, then retrying.\n",
      "Reconnecting Anvil Uplink...\n",
      "Connecting to wss://anvil.works/uplink\n",
      "Reconnection failed. Waiting 10 seconds, then retrying.\n",
      "Reconnecting Anvil Uplink...\n",
      "Connecting to wss://anvil.works/uplink\n",
      "Reconnection failed. Waiting 10 seconds, then retrying.\n",
      "Reconnecting Anvil Uplink...\n",
      "Connecting to wss://anvil.works/uplink\n",
      "Reconnection failed. Waiting 10 seconds, then retrying.\n",
      "Reconnecting Anvil Uplink...\n",
      "Connecting to wss://anvil.works/uplink\n",
      "Reconnection failed. Waiting 10 seconds, then retrying.\n",
      "Reconnecting Anvil Uplink...\n",
      "Connecting to wss://anvil.works/uplink\n",
      "Reconnection failed. Waiting 10 seconds, then retrying.\n",
      "Reconnecting Anvil Uplink...\n",
      "Connecting to wss://anvil.works/uplink\n",
      "Reconnection failed. Waiting 10 seconds, then retrying.\n",
      "Reconnecting Anvil Uplink...\n",
      "Connecting to wss://anvil.works/uplink\n",
      "Reconnection failed. Waiting 10 seconds, then retrying.\n",
      "Reconnecting Anvil Uplink...\n",
      "Connecting to wss://anvil.works/uplink\n",
      "Reconnection failed. Waiting 10 seconds, then retrying.\n",
      "Reconnecting Anvil Uplink...\n",
      "Connecting to wss://anvil.works/uplink\n",
      "Reconnection failed. Waiting 10 seconds, then retrying.\n",
      "Reconnecting Anvil Uplink...\n",
      "Connecting to wss://anvil.works/uplink\n",
      "Reconnection failed. Waiting 10 seconds, then retrying.\n",
      "Reconnecting Anvil Uplink...\n",
      "Connecting to wss://anvil.works/uplink\n",
      "Reconnection failed. Waiting 10 seconds, then retrying.\n",
      "Reconnecting Anvil Uplink...\n",
      "Connecting to wss://anvil.works/uplink\n",
      "Reconnection failed. Waiting 10 seconds, then retrying.\n",
      "Reconnecting Anvil Uplink...\n",
      "Connecting to wss://anvil.works/uplink\n",
      "Reconnection failed. Waiting 10 seconds, then retrying.\n",
      "Reconnecting Anvil Uplink...\n",
      "Connecting to wss://anvil.works/uplink\n",
      "Reconnection failed. Waiting 10 seconds, then retrying.\n",
      "Reconnecting Anvil Uplink...\n",
      "Connecting to wss://anvil.works/uplink\n",
      "Reconnection failed. Waiting 10 seconds, then retrying.\n",
      "Reconnecting Anvil Uplink...\n",
      "Connecting to wss://anvil.works/uplink\n",
      "Reconnection failed. Waiting 10 seconds, then retrying.\n",
      "Reconnecting Anvil Uplink...\n",
      "Connecting to wss://anvil.works/uplink\n",
      "Reconnection failed. Waiting 10 seconds, then retrying.\n",
      "Reconnecting Anvil Uplink...\n",
      "Connecting to wss://anvil.works/uplink\n",
      "Reconnection failed. Waiting 10 seconds, then retrying.\n",
      "Reconnecting Anvil Uplink...\n",
      "Connecting to wss://anvil.works/uplink\n",
      "Reconnection failed. Waiting 10 seconds, then retrying.\n",
      "Reconnecting Anvil Uplink...\n",
      "Connecting to wss://anvil.works/uplink\n",
      "Reconnection failed. Waiting 10 seconds, then retrying.\n",
      "Reconnecting Anvil Uplink...\n",
      "Connecting to wss://anvil.works/uplink\n",
      "Reconnection failed. Waiting 10 seconds, then retrying.\n",
      "Reconnecting Anvil Uplink...\n",
      "Connecting to wss://anvil.works/uplink\n",
      "Reconnection failed. Waiting 10 seconds, then retrying.\n",
      "Reconnecting Anvil Uplink...\n",
      "Connecting to wss://anvil.works/uplink\n",
      "Reconnection failed. Waiting 10 seconds, then retrying.\n",
      "Reconnecting Anvil Uplink...\n",
      "Connecting to wss://anvil.works/uplink\n",
      "Reconnection failed. Waiting 10 seconds, then retrying.\n",
      "Reconnecting Anvil Uplink...\n",
      "Connecting to wss://anvil.works/uplink\n",
      "Reconnection failed. Waiting 10 seconds, then retrying.\n",
      "Reconnecting Anvil Uplink...\n",
      "Connecting to wss://anvil.works/uplink\n",
      "Reconnection failed. Waiting 10 seconds, then retrying.\n",
      "Reconnecting Anvil Uplink...\n",
      "Connecting to wss://anvil.works/uplink\n",
      "Reconnection failed. Waiting 10 seconds, then retrying.\n",
      "Reconnecting Anvil Uplink...\n",
      "Connecting to wss://anvil.works/uplink\n",
      "Reconnection failed. Waiting 10 seconds, then retrying.\n",
      "Reconnecting Anvil Uplink...\n",
      "Connecting to wss://anvil.works/uplink\n",
      "Reconnection failed. Waiting 10 seconds, then retrying.\n",
      "Reconnecting Anvil Uplink...\n",
      "Connecting to wss://anvil.works/uplink\n",
      "Reconnection failed. Waiting 10 seconds, then retrying.\n",
      "Reconnecting Anvil Uplink...\n",
      "Connecting to wss://anvil.works/uplink\n",
      "Reconnection failed. Waiting 10 seconds, then retrying.\n",
      "Reconnecting Anvil Uplink...\n",
      "Connecting to wss://anvil.works/uplink\n",
      "Reconnection failed. Waiting 10 seconds, then retrying.\n",
      "Reconnecting Anvil Uplink...\n",
      "Connecting to wss://anvil.works/uplink\n",
      "Reconnection failed. Waiting 10 seconds, then retrying.\n",
      "Reconnecting Anvil Uplink...\n",
      "Connecting to wss://anvil.works/uplink\n",
      "Reconnection failed. Waiting 10 seconds, then retrying.\n",
      "Reconnecting Anvil Uplink...\n",
      "Connecting to wss://anvil.works/uplink\n",
      "Reconnection failed. Waiting 10 seconds, then retrying.\n",
      "Reconnecting Anvil Uplink...\n",
      "Connecting to wss://anvil.works/uplink\n",
      "Reconnection failed. Waiting 10 seconds, then retrying.\n",
      "Reconnecting Anvil Uplink...\n",
      "Connecting to wss://anvil.works/uplink\n",
      "Reconnection failed. Waiting 10 seconds, then retrying.\n",
      "Reconnecting Anvil Uplink...\n",
      "Connecting to wss://anvil.works/uplink\n",
      "Reconnection failed. Waiting 10 seconds, then retrying.\n",
      "Reconnecting Anvil Uplink...\n",
      "Connecting to wss://anvil.works/uplink\n",
      "Reconnection failed. Waiting 10 seconds, then retrying.\n",
      "Reconnecting Anvil Uplink...\n",
      "Connecting to wss://anvil.works/uplink\n",
      "Reconnection failed. Waiting 10 seconds, then retrying.\n",
      "Reconnecting Anvil Uplink...\n",
      "Connecting to wss://anvil.works/uplink\n",
      "Reconnection failed. Waiting 10 seconds, then retrying.\n",
      "Reconnecting Anvil Uplink...\n",
      "Connecting to wss://anvil.works/uplink\n",
      "Reconnection failed. Waiting 10 seconds, then retrying.\n",
      "Reconnecting Anvil Uplink...\n",
      "Connecting to wss://anvil.works/uplink\n",
      "Reconnection failed. Waiting 10 seconds, then retrying.\n",
      "Reconnecting Anvil Uplink...\n",
      "Connecting to wss://anvil.works/uplink\n",
      "Reconnection failed. Waiting 10 seconds, then retrying.\n",
      "Reconnecting Anvil Uplink...\n",
      "Connecting to wss://anvil.works/uplink\n",
      "Reconnection failed. Waiting 10 seconds, then retrying.\n",
      "Reconnecting Anvil Uplink...\n",
      "Connecting to wss://anvil.works/uplink\n",
      "Reconnection failed. Waiting 10 seconds, then retrying.\n",
      "Reconnecting Anvil Uplink...\n",
      "Connecting to wss://anvil.works/uplink\n",
      "Reconnection failed. Waiting 10 seconds, then retrying.\n",
      "Reconnecting Anvil Uplink...\n",
      "Connecting to wss://anvil.works/uplink\n",
      "Reconnection failed. Waiting 10 seconds, then retrying.\n",
      "Reconnecting Anvil Uplink...\n",
      "Connecting to wss://anvil.works/uplink\n",
      "Reconnection failed. Waiting 10 seconds, then retrying.\n",
      "Reconnecting Anvil Uplink...\n",
      "Connecting to wss://anvil.works/uplink\n",
      "Reconnection failed. Waiting 10 seconds, then retrying.\n",
      "Reconnecting Anvil Uplink...\n",
      "Connecting to wss://anvil.works/uplink\n",
      "Reconnection failed. Waiting 10 seconds, then retrying.\n",
      "Reconnecting Anvil Uplink...\n",
      "Connecting to wss://anvil.works/uplink\n",
      "Reconnection failed. Waiting 10 seconds, then retrying.\n",
      "Reconnecting Anvil Uplink...\n",
      "Connecting to wss://anvil.works/uplink\n",
      "Reconnection failed. Waiting 10 seconds, then retrying.\n",
      "Reconnecting Anvil Uplink...\n",
      "Connecting to wss://anvil.works/uplink\n",
      "Reconnection failed. Waiting 10 seconds, then retrying.\n",
      "Reconnecting Anvil Uplink...\n",
      "Connecting to wss://anvil.works/uplink\n",
      "Reconnection failed. Waiting 10 seconds, then retrying.\n",
      "Reconnecting Anvil Uplink...\n",
      "Connecting to wss://anvil.works/uplink\n",
      "Reconnection failed. Waiting 10 seconds, then retrying.\n",
      "Reconnecting Anvil Uplink...\n",
      "Connecting to wss://anvil.works/uplink\n",
      "Reconnection failed. Waiting 10 seconds, then retrying.\n",
      "Reconnecting Anvil Uplink...\n",
      "Connecting to wss://anvil.works/uplink\n",
      "Reconnection failed. Waiting 10 seconds, then retrying.\n",
      "Reconnecting Anvil Uplink...\n",
      "Connecting to wss://anvil.works/uplink\n",
      "Reconnection failed. Waiting 10 seconds, then retrying.\n",
      "Reconnecting Anvil Uplink...\n",
      "Connecting to wss://anvil.works/uplink\n",
      "Reconnection failed. Waiting 10 seconds, then retrying.\n",
      "Reconnecting Anvil Uplink...\n",
      "Connecting to wss://anvil.works/uplink\n",
      "Reconnection failed. Waiting 10 seconds, then retrying.\n"
     ]
    }
   ],
   "source": [
    "from textblob import TextBlob\n",
    "def get_nouns(text):\n",
    "    blob = TextBlob(text)\n",
    "    return blob.noun_phrases"
   ]
  },
  {
   "cell_type": "code",
   "execution_count": 87,
   "metadata": {},
   "outputs": [
    {
     "name": "stdout",
     "output_type": "stream",
     "text": [
      "['hello', 'world game', 'nice', 'hello string nice']\n"
     ]
    }
   ],
   "source": [
    "print(get_nouns('I am a very nice Hello world game. Nice one Hello String Nice were'))"
   ]
  },
  {
   "cell_type": "code",
   "execution_count": 88,
   "metadata": {},
   "outputs": [],
   "source": [
    "from vaderSentiment.vaderSentiment import SentimentIntensityAnalyzer\n",
    "@anvil.server.callable\n",
    "def classify_news(text):\n",
    "    raw_news = [text]\n",
    "    loaded_vec = CountVectorizer(vocabulary=count_vect.vocabulary_)\n",
    "\n",
    "    X_new_counts = loaded_vec.transform(raw_news)\n",
    "    X_new_tfidf = tfidf_transformer.transform(X_new_counts)\n",
    "    predicted = clf_svm.predict(X_new_tfidf)\n",
    "    \n",
    "    sid_obj = SentimentIntensityAnalyzer()\n",
    "    text_dict = sid_obj.polarity_scores(text)\n",
    "    sent=''\n",
    "    if text_dict['compound'] >= 0.05 :\n",
    "        sent = \"Positive\"\n",
    " \n",
    "    elif text_dict['compound'] <= - 0.05 :\n",
    "        sent = \"Negative\"\n",
    "        \n",
    "    else :\n",
    "        sent = \"Neutral\"\n",
    "    rate = text_dict['compound']*100\n",
    "\n",
    "    noun_ph = get_nouns(text)\n",
    "    affecting_words = take_words(text)\n",
    "    li = main_headline(affecting_words,text)\n",
    "    return (category_list[predicted[0]],sent,rate,li)"
   ]
  },
  {
   "cell_type": "code",
   "execution_count": null,
   "metadata": {},
   "outputs": [],
   "source": []
  },
  {
   "cell_type": "code",
   "execution_count": null,
   "metadata": {},
   "outputs": [],
   "source": []
  },
  {
   "cell_type": "code",
   "execution_count": null,
   "metadata": {},
   "outputs": [],
   "source": []
  }
 ],
 "metadata": {
  "kernelspec": {
   "display_name": "Python 3",
   "language": "python",
   "name": "python3"
  },
  "language_info": {
   "codemirror_mode": {
    "name": "ipython",
    "version": 3
   },
   "file_extension": ".py",
   "mimetype": "text/x-python",
   "name": "python",
   "nbconvert_exporter": "python",
   "pygments_lexer": "ipython3",
   "version": "3.7.6"
  }
 },
 "nbformat": 4,
 "nbformat_minor": 2
}
